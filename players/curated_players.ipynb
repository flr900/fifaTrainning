{
 "cells": [
  {
   "cell_type": "markdown",
   "metadata": {},
   "source": [
    "# Merge entre bases de jogadores editados e \"novos\""
   ]
  },
  {
   "cell_type": "code",
   "execution_count": 15,
   "metadata": {},
   "outputs": [],
   "source": [
    "import pandas as pd"
   ]
  },
  {
   "cell_type": "markdown",
   "metadata": {},
   "source": [
    "Identifica a interseção de playersId entre as bases, de forma a garantir que ao fazer o merge posteriormente, não teremos conflitos!"
   ]
  },
  {
   "cell_type": "code",
   "execution_count": null,
   "metadata": {},
   "outputs": [],
   "source": [
    "dfNewPlayers = pd.read_csv('./result/newPlayers.csv')\n",
    "dfOldPlayers = pd.read_csv('./result/oldPlayers.csv')\n",
    "\n",
    "# dfIntersectPlayers = dfOldPlayers[~dfOldPlayers['playerid'].isin(dfNewPlayers['playerid'])]\n",
    "##Pendete realizar com o inner join\n",
    "dfIntersectPlayers = dfOldPlayers.merge(dfNewPlayers, on='playerid', how='left', indicator=True, suffixes=['_old', '_new'])\n",
    "dfIntersectPlayers = dfIntersectPlayers[dfIntersectPlayers['_merge'] == 'left_only'].drop('_merge', axis=1)\n",
    "dfIntersectPlayers.to_csv('./result/playerIdIntersection.csv')"
   ]
  }
 ],
 "metadata": {
  "kernelspec": {
   "display_name": "Python 3",
   "language": "python",
   "name": "python3"
  },
  "language_info": {
   "codemirror_mode": {
    "name": "ipython",
    "version": 3
   },
   "file_extension": ".py",
   "mimetype": "text/x-python",
   "name": "python",
   "nbconvert_exporter": "python",
   "pygments_lexer": "ipython3",
   "version": "3.10.5"
  }
 },
 "nbformat": 4,
 "nbformat_minor": 2
}
