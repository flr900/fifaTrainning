{
 "cells": [
  {
   "cell_type": "markdown",
   "metadata": {},
   "source": [
    "## ETL para analise de edições do fifa 22"
   ]
  },
  {
   "cell_type": "code",
   "execution_count": 13,
   "metadata": {},
   "outputs": [],
   "source": [
    "import pandas as pd\n",
    "\n",
    "basePath = '../tablesV2/utf/'\n"
   ]
  },
  {
   "cell_type": "markdown",
   "metadata": {},
   "source": [
    "#### Importa dados de jogadores"
   ]
  },
  {
   "cell_type": "code",
   "execution_count": 14,
   "metadata": {},
   "outputs": [],
   "source": [
    "newPlayers = basePath + 'players.txt'\n",
    "\n",
    "dfPlayers = pd.read_csv(newPlayers, sep='\\s+')\n",
    "dfPlayers = dfPlayers[['firstnameid', 'lastnameid', 'commonnameid', 'playerid']].drop_duplicates(subset='playerid', keep='first')"
   ]
  },
  {
   "cell_type": "markdown",
   "metadata": {},
   "source": [
    "#### Trato dados de jogadores cruzando com bases de nomes"
   ]
  },
  {
   "cell_type": "markdown",
   "metadata": {},
   "source": [
    "Busco nomes de base original da EA, e gero a combinação de nome completo"
   ]
  },
  {
   "cell_type": "code",
   "execution_count": 15,
   "metadata": {},
   "outputs": [],
   "source": [
    "newPlayers = basePath + 'playernames.txt'\n",
    "\n",
    "dfPlayersName = pd.read_csv(\n",
    "    newPlayers,\n",
    "    sep='\\t',  # Delimitador de tabulação\n",
    "    encoding='utf-8',  # Codificação UTF-8, equivalente a 65001\n",
    "    names=['nameid', 'commentaryid', 'name'],  # Nomes das colunas\n",
    "    skiprows=1,\n",
    "    engine='python'  # Usar o motor Python para maior flexibilidade\n",
    ").drop_duplicates(subset='nameid', keep='first')\n",
    "\n",
    "playersOriginalNames = dict(zip(dfPlayersName['nameid'], dfPlayersName['name']))"
   ]
  },
  {
   "cell_type": "code",
   "execution_count": 16,
   "metadata": {},
   "outputs": [
    {
     "data": {
      "text/html": [
       "<div>\n",
       "<style scoped>\n",
       "    .dataframe tbody tr th:only-of-type {\n",
       "        vertical-align: middle;\n",
       "    }\n",
       "\n",
       "    .dataframe tbody tr th {\n",
       "        vertical-align: top;\n",
       "    }\n",
       "\n",
       "    .dataframe thead th {\n",
       "        text-align: right;\n",
       "    }\n",
       "</style>\n",
       "<table border=\"1\" class=\"dataframe\">\n",
       "  <thead>\n",
       "    <tr style=\"text-align: right;\">\n",
       "      <th></th>\n",
       "      <th>firstnameid</th>\n",
       "      <th>lastnameid</th>\n",
       "      <th>commonnameid</th>\n",
       "      <th>playerid</th>\n",
       "      <th>firstname</th>\n",
       "      <th>surname</th>\n",
       "      <th>commonname</th>\n",
       "      <th>fullname</th>\n",
       "    </tr>\n",
       "  </thead>\n",
       "  <tbody>\n",
       "    <tr>\n",
       "      <th>0</th>\n",
       "      <td>15353</td>\n",
       "      <td>6531</td>\n",
       "      <td>0</td>\n",
       "      <td>27</td>\n",
       "      <td>Joe</td>\n",
       "      <td>Cole</td>\n",
       "      <td>NaN</td>\n",
       "      <td>Joe Cole</td>\n",
       "    </tr>\n",
       "    <tr>\n",
       "      <th>1</th>\n",
       "      <td>1882</td>\n",
       "      <td>14117</td>\n",
       "      <td>14116</td>\n",
       "      <td>41</td>\n",
       "      <td>Andrés</td>\n",
       "      <td>Iniesta Luján</td>\n",
       "      <td>Iniesta</td>\n",
       "      <td>Andrés Iniesta Luján</td>\n",
       "    </tr>\n",
       "    <tr>\n",
       "      <th>2</th>\n",
       "      <td>1340</td>\n",
       "      <td>45088</td>\n",
       "      <td>0</td>\n",
       "      <td>65</td>\n",
       "      <td>Alexander</td>\n",
       "      <td>NaN</td>\n",
       "      <td>NaN</td>\n",
       "      <td>NaN</td>\n",
       "    </tr>\n",
       "    <tr>\n",
       "      <th>3</th>\n",
       "      <td>20389</td>\n",
       "      <td>44974</td>\n",
       "      <td>0</td>\n",
       "      <td>67</td>\n",
       "      <td>Manuel</td>\n",
       "      <td>NaN</td>\n",
       "      <td>NaN</td>\n",
       "      <td>NaN</td>\n",
       "    </tr>\n",
       "    <tr>\n",
       "      <th>4</th>\n",
       "      <td>21082</td>\n",
       "      <td>16798</td>\n",
       "      <td>0</td>\n",
       "      <td>82</td>\n",
       "      <td>Max</td>\n",
       "      <td>Kessler</td>\n",
       "      <td>NaN</td>\n",
       "      <td>Max Kessler</td>\n",
       "    </tr>\n",
       "  </tbody>\n",
       "</table>\n",
       "</div>"
      ],
      "text/plain": [
       "   firstnameid  lastnameid  commonnameid  playerid  firstname        surname  \\\n",
       "0        15353        6531             0        27        Joe           Cole   \n",
       "1         1882       14117         14116        41     Andrés  Iniesta Luján   \n",
       "2         1340       45088             0        65  Alexander            NaN   \n",
       "3        20389       44974             0        67     Manuel            NaN   \n",
       "4        21082       16798             0        82        Max        Kessler   \n",
       "\n",
       "  commonname              fullname  \n",
       "0        NaN              Joe Cole  \n",
       "1    Iniesta  Andrés Iniesta Luján  \n",
       "2        NaN                   NaN  \n",
       "3        NaN                   NaN  \n",
       "4        NaN           Max Kessler  "
      ]
     },
     "execution_count": 16,
     "metadata": {},
     "output_type": "execute_result"
    }
   ],
   "source": [
    "## First Name ID > 0 significa jogadores originais do fifa\n",
    "\n",
    "dfOriginalPlayers = dfPlayers[dfPlayers['firstnameid'] > 0].copy()\n",
    "\n",
    "colsToSearch = [('firstnameid','firstname'),('lastnameid', 'surname'), ('commonnameid','commonname')]\n",
    "\n",
    "for col_id, col_name in colsToSearch:\n",
    "    dfOriginalPlayers[col_name] = dfOriginalPlayers[col_id].map(playersOriginalNames)\n",
    "\n",
    "dfOriginalPlayers['fullname'] = dfOriginalPlayers['firstname'] + ' ' + dfOriginalPlayers['surname']\n",
    "dfOriginalPlayers.head()"
   ]
  },
  {
   "cell_type": "markdown",
   "metadata": {},
   "source": [
    "Busco nome de jogadores editados "
   ]
  },
  {
   "cell_type": "code",
   "execution_count": 17,
   "metadata": {},
   "outputs": [],
   "source": [
    "editPlayersNames = basePath + 'editedplayernames.txt'\n",
    "dfEditedPlayerNames = pd.read_csv(\n",
    "    editPlayersNames,\n",
    "    sep='\\t',  # Delimitador de tabulação\n",
    "    encoding='utf-8',  # Codificação UTF-8, equivalente a 65001\n",
    "    names=['firstname','commonname','playerjerseyname','surname','playerid'],  # Nomes das colunas\n",
    "    skiprows=1,\n",
    "    engine='python'  # Usar o motor Python para maior flexibilidade\n",
    ")\n",
    "\n",
    "dfEditedPlayerNames.dropna(inplace=True)"
   ]
  },
  {
   "cell_type": "code",
   "execution_count": 18,
   "metadata": {},
   "outputs": [
    {
     "data": {
      "text/html": [
       "<div>\n",
       "<style scoped>\n",
       "    .dataframe tbody tr th:only-of-type {\n",
       "        vertical-align: middle;\n",
       "    }\n",
       "\n",
       "    .dataframe tbody tr th {\n",
       "        vertical-align: top;\n",
       "    }\n",
       "\n",
       "    .dataframe thead th {\n",
       "        text-align: right;\n",
       "    }\n",
       "</style>\n",
       "<table border=\"1\" class=\"dataframe\">\n",
       "  <thead>\n",
       "    <tr style=\"text-align: right;\">\n",
       "      <th></th>\n",
       "      <th>firstname</th>\n",
       "      <th>commonname</th>\n",
       "      <th>playerjerseyname</th>\n",
       "      <th>surname</th>\n",
       "      <th>playerid</th>\n",
       "    </tr>\n",
       "  </thead>\n",
       "  <tbody>\n",
       "    <tr>\n",
       "      <th>5</th>\n",
       "      <td>Lamine</td>\n",
       "      <td>Lamine Yamal</td>\n",
       "      <td>Lamine Yamal</td>\n",
       "      <td>Yamal</td>\n",
       "      <td>269150</td>\n",
       "    </tr>\n",
       "    <tr>\n",
       "      <th>6</th>\n",
       "      <td>Endrick Felipe</td>\n",
       "      <td>Endrick</td>\n",
       "      <td>Endrick</td>\n",
       "      <td>Moreira de Sousa</td>\n",
       "      <td>6357</td>\n",
       "    </tr>\n",
       "    <tr>\n",
       "      <th>7</th>\n",
       "      <td>Antonio</td>\n",
       "      <td>Silva</td>\n",
       "      <td>Silva</td>\n",
       "      <td>Silva</td>\n",
       "      <td>256125</td>\n",
       "    </tr>\n",
       "    <tr>\n",
       "      <th>8</th>\n",
       "      <td>Adrianne</td>\n",
       "      <td>Iron</td>\n",
       "      <td>Iron</td>\n",
       "      <td>Reid</td>\n",
       "      <td>1661</td>\n",
       "    </tr>\n",
       "    <tr>\n",
       "      <th>9</th>\n",
       "      <td>José Luis</td>\n",
       "      <td>Joselu</td>\n",
       "      <td>Joselu</td>\n",
       "      <td>Sanmartín Mato</td>\n",
       "      <td>173608</td>\n",
       "    </tr>\n",
       "  </tbody>\n",
       "</table>\n",
       "</div>"
      ],
      "text/plain": [
       "        firstname    commonname playerjerseyname           surname  playerid\n",
       "5          Lamine  Lamine Yamal     Lamine Yamal             Yamal    269150\n",
       "6  Endrick Felipe       Endrick          Endrick  Moreira de Sousa      6357\n",
       "7         Antonio         Silva            Silva             Silva    256125\n",
       "8        Adrianne          Iron             Iron              Reid      1661\n",
       "9       José Luis        Joselu           Joselu    Sanmartín Mato    173608"
      ]
     },
     "execution_count": 18,
     "metadata": {},
     "output_type": "execute_result"
    }
   ],
   "source": [
    "## First Name ID = 0 significa jogadores editados do mod\n",
    "dfEditedPlayers = dfPlayers[dfPlayers['firstnameid'] == 0]\n",
    "\n",
    "dfEditedPlayers= dfEditedPlayers.merge(dfEditedPlayerNames[['playerid','firstname','surname','commonname']], on='playerid', how='left')\n",
    "dfEditedPlayers['fullname'] = dfEditedPlayers['firstname'] + ' ' + dfEditedPlayers['surname']\n",
    "dfEditedPlayerNames.head()"
   ]
  },
  {
   "cell_type": "markdown",
   "metadata": {},
   "source": [
    "Mesclo bases de nomes editados e originais, transformando em base unica."
   ]
  },
  {
   "cell_type": "code",
   "execution_count": 19,
   "metadata": {},
   "outputs": [],
   "source": [
    "dfPlayers = pd.concat([dfOriginalPlayers,dfEditedPlayers])\n",
    "dfPlayers.drop(columns=['firstnameid','lastnameid','commonnameid'],inplace=True)"
   ]
  },
  {
   "cell_type": "markdown",
   "metadata": {},
   "source": [
    "### Inicia busca de times"
   ]
  },
  {
   "cell_type": "code",
   "execution_count": 20,
   "metadata": {},
   "outputs": [],
   "source": [
    "teamsPath = basePath + 'teams.txt'\n",
    "\n",
    "dfTeams = pd.read_csv(\n",
    "    teamsPath,\n",
    "    sep='\\t',  # Delimitador de tabulação\n",
    "    encoding='utf-8'# Usar o motor Python para maior flexibilidade\n",
    ").drop_duplicates(subset='teamid')\n",
    "dfTeams = dfTeams[['teamid', 'teamname']].dropna()"
   ]
  },
  {
   "cell_type": "markdown",
   "metadata": {},
   "source": [
    "Retira seleções da listagem de times."
   ]
  },
  {
   "cell_type": "code",
   "execution_count": 21,
   "metadata": {},
   "outputs": [
    {
     "data": {
      "text/html": [
       "<div>\n",
       "<style scoped>\n",
       "    .dataframe tbody tr th:only-of-type {\n",
       "        vertical-align: middle;\n",
       "    }\n",
       "\n",
       "    .dataframe tbody tr th {\n",
       "        vertical-align: top;\n",
       "    }\n",
       "\n",
       "    .dataframe thead th {\n",
       "        text-align: right;\n",
       "    }\n",
       "</style>\n",
       "<table border=\"1\" class=\"dataframe\">\n",
       "  <thead>\n",
       "    <tr style=\"text-align: right;\">\n",
       "      <th></th>\n",
       "      <th>leagueid</th>\n",
       "      <th>artificialkey</th>\n",
       "      <th>teamid</th>\n",
       "      <th>leaguename</th>\n",
       "    </tr>\n",
       "  </thead>\n",
       "  <tbody>\n",
       "    <tr>\n",
       "      <th>0</th>\n",
       "      <td>1</td>\n",
       "      <td>1</td>\n",
       "      <td>270</td>\n",
       "      <td>Denmark Superliga (1)</td>\n",
       "    </tr>\n",
       "    <tr>\n",
       "      <th>1</th>\n",
       "      <td>1</td>\n",
       "      <td>2</td>\n",
       "      <td>271</td>\n",
       "      <td>Denmark Superliga (1)</td>\n",
       "    </tr>\n",
       "    <tr>\n",
       "      <th>2</th>\n",
       "      <td>1</td>\n",
       "      <td>3</td>\n",
       "      <td>272</td>\n",
       "      <td>Denmark Superliga (1)</td>\n",
       "    </tr>\n",
       "    <tr>\n",
       "      <th>3</th>\n",
       "      <td>1</td>\n",
       "      <td>4</td>\n",
       "      <td>819</td>\n",
       "      <td>Denmark Superliga (1)</td>\n",
       "    </tr>\n",
       "    <tr>\n",
       "      <th>4</th>\n",
       "      <td>1</td>\n",
       "      <td>5</td>\n",
       "      <td>820</td>\n",
       "      <td>Denmark Superliga (1)</td>\n",
       "    </tr>\n",
       "  </tbody>\n",
       "</table>\n",
       "</div>"
      ],
      "text/plain": [
       "   leagueid  artificialkey  teamid             leaguename\n",
       "0         1              1     270  Denmark Superliga (1)\n",
       "1         1              2     271  Denmark Superliga (1)\n",
       "2         1              3     272  Denmark Superliga (1)\n",
       "3         1              4     819  Denmark Superliga (1)\n",
       "4         1              5     820  Denmark Superliga (1)"
      ]
     },
     "execution_count": 21,
     "metadata": {},
     "output_type": "execute_result"
    }
   ],
   "source": [
    "## Busco base de ligas e a base relacional de ligas e times\n",
    "\n",
    "leaguesPath = basePath + 'leagues.txt'\n",
    "leaguesTeamsPath = basePath + 'leagueteamlinks.txt'\n",
    "\n",
    "dfLeagues = pd.read_csv(\n",
    "    leaguesPath,\n",
    "    usecols=['leagueid', 'leaguename'],\n",
    "    sep='\\t',  # Delimitador de tabulação\n",
    "    encoding='utf-8'# Usar o motor Python para maior flexibilidade\n",
    ").drop_duplicates(subset='leagueid')\n",
    "\n",
    "dfLeaguesTeams = pd.read_csv(\n",
    "    leaguesTeamsPath,\n",
    "    usecols=['leagueid', 'teamid', 'artificialkey'],\n",
    "    sep='\\t',  # Delimitador de tabulação\n",
    "    encoding='utf-8'# Usar o motor Python para maior flexibilidade\n",
    ")\n",
    "\n",
    "## Retiro a seleção por base do id das ligas de seleção masculina e feminina\n",
    "condition = (dfLeaguesTeams['leagueid'] != 2136) & (dfLeaguesTeams['leagueid'] != 78 ) & (dfLeaguesTeams['artificialkey'] != 0) & (dfLeaguesTeams['teamid'] != 112190) & (dfLeaguesTeams['teamid'] != 111596)\n",
    "dfLeaguesTeams = dfLeaguesTeams.loc[condition]\n",
    "\n",
    "dfLeaguesTeams = dfLeaguesTeams.merge(dfLeagues, on='leagueid', how='left')\n",
    "# dfLeaguesTeams.drop_duplicates(subset='teamid')\n",
    "dfLeaguesTeams.head()\n"
   ]
  },
  {
   "cell_type": "code",
   "execution_count": 22,
   "metadata": {},
   "outputs": [],
   "source": [
    "dfteamsFull = dfTeams.merge(dfLeaguesTeams, on='teamid', how=\"inner\")"
   ]
  },
  {
   "cell_type": "markdown",
   "metadata": {},
   "source": [
    "Importo a tablea relacional entre times e jogadores"
   ]
  },
  {
   "cell_type": "code",
   "execution_count": 23,
   "metadata": {},
   "outputs": [
    {
     "data": {
      "text/html": [
       "<div>\n",
       "<style scoped>\n",
       "    .dataframe tbody tr th:only-of-type {\n",
       "        vertical-align: middle;\n",
       "    }\n",
       "\n",
       "    .dataframe tbody tr th {\n",
       "        vertical-align: top;\n",
       "    }\n",
       "\n",
       "    .dataframe thead th {\n",
       "        text-align: right;\n",
       "    }\n",
       "</style>\n",
       "<table border=\"1\" class=\"dataframe\">\n",
       "  <thead>\n",
       "    <tr style=\"text-align: right;\">\n",
       "      <th></th>\n",
       "      <th>teamid</th>\n",
       "      <th>playerid</th>\n",
       "      <th>jerseynumber</th>\n",
       "      <th>position</th>\n",
       "    </tr>\n",
       "  </thead>\n",
       "  <tbody>\n",
       "    <tr>\n",
       "      <th>0</th>\n",
       "      <td>114815</td>\n",
       "      <td>27</td>\n",
       "      <td>20</td>\n",
       "      <td>29</td>\n",
       "    </tr>\n",
       "    <tr>\n",
       "      <th>1</th>\n",
       "      <td>101146</td>\n",
       "      <td>41</td>\n",
       "      <td>8</td>\n",
       "      <td>18</td>\n",
       "    </tr>\n",
       "    <tr>\n",
       "      <th>2</th>\n",
       "      <td>111674</td>\n",
       "      <td>65</td>\n",
       "      <td>18</td>\n",
       "      <td>28</td>\n",
       "    </tr>\n",
       "    <tr>\n",
       "      <th>3</th>\n",
       "      <td>982</td>\n",
       "      <td>67</td>\n",
       "      <td>4</td>\n",
       "      <td>3</td>\n",
       "    </tr>\n",
       "    <tr>\n",
       "      <th>4</th>\n",
       "      <td>982</td>\n",
       "      <td>82</td>\n",
       "      <td>19</td>\n",
       "      <td>29</td>\n",
       "    </tr>\n",
       "  </tbody>\n",
       "</table>\n",
       "</div>"
      ],
      "text/plain": [
       "   teamid  playerid  jerseynumber  position\n",
       "0  114815        27            20        29\n",
       "1  101146        41             8        18\n",
       "2  111674        65            18        28\n",
       "3     982        67             4         3\n",
       "4     982        82            19        29"
      ]
     },
     "execution_count": 23,
     "metadata": {},
     "output_type": "execute_result"
    }
   ],
   "source": [
    "teamsPlayersPath = basePath + 'teamplayerlinks.txt'\n",
    "\n",
    "dfTeamsPlayers = pd.read_csv(\n",
    "    teamsPlayersPath,\n",
    "    sep='\\t',  # Delimitador de tabulação\n",
    "    encoding='utf-8'# Usar o motor Python para maior flexibilidade\n",
    ")\n",
    "dfTeamsPlayers = dfTeamsPlayers[['teamid','playerid','jerseynumber', 'position']].dropna()\n",
    "\n",
    "dfTeamsPlayers.head()"
   ]
  },
  {
   "cell_type": "code",
   "execution_count": null,
   "metadata": {},
   "outputs": [
    {
     "name": "stdout",
     "output_type": "stream",
     "text": [
      "Empty DataFrame\n",
      "Columns: [teamid, playerid, jerseynumber, position, teamname, leagueid, artificialkey, leaguename, firstname, surname, commonname, fullname]\n",
      "Index: []\n"
     ]
    }
   ],
   "source": [
    "dfNewTeamsPlayers = dfTeamsPlayers.merge(dfteamsFull, on='teamid', how='right')\n",
    "dfNewTeamsPlayers = dfNewTeamsPlayers.merge(dfPlayers,on='playerid', how='left')\n",
    "dfNewTeamsPlayers = dfNewTeamsPlayers.query('playerid > 0')\n",
    "# dfNewTeamsPlayers = dfNewTeamsPlayers.merge(dfTeams,on='teamid', how='left')\n",
    "dfNewTeamsPlayers.to_csv('./result/newPlayers.csv')\n",
    "# subColumn = ['playerid']\n",
    "# has_duplicates = dfNewTeamsPlayers[dfNewTeamsPlayers.duplicated(subset=subColumn,keep=False)]\n",
    "# has_duplicates = has_duplicates.sort_values(by=['playerid'])\n",
    "# has_duplicates.to_csv('./result/duplicates.csv')\n",
    "# print(has_duplicates.head())"
   ]
  }
 ],
 "metadata": {
  "kernelspec": {
   "display_name": "Python 3",
   "language": "python",
   "name": "python3"
  },
  "language_info": {
   "codemirror_mode": {
    "name": "ipython",
    "version": 3
   },
   "file_extension": ".py",
   "mimetype": "text/x-python",
   "name": "python",
   "nbconvert_exporter": "python",
   "pygments_lexer": "ipython3",
   "version": "3.10.5"
  }
 },
 "nbformat": 4,
 "nbformat_minor": 2
}
