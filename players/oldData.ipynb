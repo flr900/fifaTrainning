{
 "cells": [
  {
   "cell_type": "markdown",
   "metadata": {},
   "source": [
    "## ETL para analise de edições do fifa 22"
   ]
  },
  {
   "cell_type": "code",
   "execution_count": 49,
   "metadata": {},
   "outputs": [],
   "source": [
    "import pandas as pd\n",
    "\n",
    "basePath = '../tables/utf/'\n"
   ]
  },
  {
   "cell_type": "markdown",
   "metadata": {},
   "source": [
    "#### Importa dados de jogadores"
   ]
  },
  {
   "cell_type": "code",
   "execution_count": 50,
   "metadata": {},
   "outputs": [],
   "source": [
    "newPlayers = basePath + 'players.txt'\n",
    "\n",
    "dfPlayers = pd.read_csv(newPlayers, sep='\\s+')\n",
    "dfPlayers = dfPlayers[['firstnameid', 'lastnameid', 'commonnameid', 'playerid']].drop_duplicates(subset='playerid', keep='first')"
   ]
  },
  {
   "cell_type": "markdown",
   "metadata": {},
   "source": [
    "#### Trato dados de jogadores cruzando com bases de nomes"
   ]
  },
  {
   "cell_type": "markdown",
   "metadata": {},
   "source": [
    "Busco nomes de base original da EA, e gero a combinação de nome completo"
   ]
  },
  {
   "cell_type": "code",
   "execution_count": 51,
   "metadata": {},
   "outputs": [],
   "source": [
    "newPlayers = basePath + 'playernames.txt'\n",
    "\n",
    "dfPlayersName = pd.read_csv(\n",
    "    newPlayers,\n",
    "    sep='\\t',  # Delimitador de tabulação\n",
    "    encoding='utf-8',  # Codificação UTF-8, equivalente a 65001\n",
    "    names=['nameid', 'commentaryid', 'name'],  # Nomes das colunas\n",
    "    skiprows=1,\n",
    "    engine='python'  # Usar o motor Python para maior flexibilidade\n",
    ").drop_duplicates(subset='nameid', keep='first')\n",
    "\n",
    "playersOriginalNames = dict(zip(dfPlayersName['nameid'], dfPlayersName['name']))"
   ]
  },
  {
   "cell_type": "code",
   "execution_count": 52,
   "metadata": {},
   "outputs": [
    {
     "data": {
      "text/html": [
       "<div>\n",
       "<style scoped>\n",
       "    .dataframe tbody tr th:only-of-type {\n",
       "        vertical-align: middle;\n",
       "    }\n",
       "\n",
       "    .dataframe tbody tr th {\n",
       "        vertical-align: top;\n",
       "    }\n",
       "\n",
       "    .dataframe thead th {\n",
       "        text-align: right;\n",
       "    }\n",
       "</style>\n",
       "<table border=\"1\" class=\"dataframe\">\n",
       "  <thead>\n",
       "    <tr style=\"text-align: right;\">\n",
       "      <th></th>\n",
       "      <th>firstnameid</th>\n",
       "      <th>lastnameid</th>\n",
       "      <th>commonnameid</th>\n",
       "      <th>playerid</th>\n",
       "      <th>firstname</th>\n",
       "      <th>surname</th>\n",
       "      <th>commonname</th>\n",
       "      <th>fullname</th>\n",
       "    </tr>\n",
       "  </thead>\n",
       "  <tbody>\n",
       "    <tr>\n",
       "      <th>1</th>\n",
       "      <td>15353</td>\n",
       "      <td>6531</td>\n",
       "      <td>0</td>\n",
       "      <td>27</td>\n",
       "      <td>Joe</td>\n",
       "      <td>Cole</td>\n",
       "      <td>NaN</td>\n",
       "      <td>Joe Cole</td>\n",
       "    </tr>\n",
       "    <tr>\n",
       "      <th>2</th>\n",
       "      <td>1882</td>\n",
       "      <td>14117</td>\n",
       "      <td>14116</td>\n",
       "      <td>41</td>\n",
       "      <td>Andrés</td>\n",
       "      <td>Iniesta Luján</td>\n",
       "      <td>Iniesta</td>\n",
       "      <td>Andrés Iniesta Luján</td>\n",
       "    </tr>\n",
       "    <tr>\n",
       "      <th>3</th>\n",
       "      <td>1178</td>\n",
       "      <td>29294</td>\n",
       "      <td>0</td>\n",
       "      <td>51</td>\n",
       "      <td>Alan</td>\n",
       "      <td>Shearer</td>\n",
       "      <td>NaN</td>\n",
       "      <td>Alan Shearer</td>\n",
       "    </tr>\n",
       "    <tr>\n",
       "      <th>4</th>\n",
       "      <td>27651</td>\n",
       "      <td>16635</td>\n",
       "      <td>0</td>\n",
       "      <td>240</td>\n",
       "      <td>Roy</td>\n",
       "      <td>Keane</td>\n",
       "      <td>NaN</td>\n",
       "      <td>Roy Keane</td>\n",
       "    </tr>\n",
       "    <tr>\n",
       "      <th>5</th>\n",
       "      <td>25044</td>\n",
       "      <td>28745</td>\n",
       "      <td>0</td>\n",
       "      <td>246</td>\n",
       "      <td>Paul</td>\n",
       "      <td>Scholes</td>\n",
       "      <td>NaN</td>\n",
       "      <td>Paul Scholes</td>\n",
       "    </tr>\n",
       "  </tbody>\n",
       "</table>\n",
       "</div>"
      ],
      "text/plain": [
       "   firstnameid  lastnameid  commonnameid  playerid firstname        surname  \\\n",
       "1        15353        6531             0        27       Joe           Cole   \n",
       "2         1882       14117         14116        41    Andrés  Iniesta Luján   \n",
       "3         1178       29294             0        51      Alan        Shearer   \n",
       "4        27651       16635             0       240       Roy          Keane   \n",
       "5        25044       28745             0       246      Paul        Scholes   \n",
       "\n",
       "  commonname              fullname  \n",
       "1        NaN              Joe Cole  \n",
       "2    Iniesta  Andrés Iniesta Luján  \n",
       "3        NaN          Alan Shearer  \n",
       "4        NaN             Roy Keane  \n",
       "5        NaN          Paul Scholes  "
      ]
     },
     "execution_count": 52,
     "metadata": {},
     "output_type": "execute_result"
    }
   ],
   "source": [
    "## First Name ID > 0 significa jogadores originais do fifa\n",
    "\n",
    "dfOriginalPlayers = dfPlayers[dfPlayers['firstnameid'] > 0].copy()\n",
    "\n",
    "colsToSearch = [('firstnameid','firstname'),('lastnameid', 'surname'), ('commonnameid','commonname')]\n",
    "\n",
    "for col_id, col_name in colsToSearch:\n",
    "    dfOriginalPlayers[col_name] = dfOriginalPlayers[col_id].map(playersOriginalNames)\n",
    "\n",
    "dfOriginalPlayers['fullname'] = dfOriginalPlayers['firstname'] + ' ' + dfOriginalPlayers['surname']\n",
    "dfOriginalPlayers.head()"
   ]
  },
  {
   "cell_type": "markdown",
   "metadata": {},
   "source": [
    "Busco nome de jogadores editados "
   ]
  },
  {
   "cell_type": "code",
   "execution_count": 53,
   "metadata": {},
   "outputs": [],
   "source": [
    "editPlayersNames = basePath + 'editedplayernames.txt'\n",
    "dfEditedPlayerNames = pd.read_csv(\n",
    "    editPlayersNames,\n",
    "    sep='\\t',  # Delimitador de tabulação\n",
    "    encoding='utf-8',  # Codificação UTF-8, equivalente a 65001\n",
    "    names=['firstname','commonname','playerjerseyname','surname','playerid'],  # Nomes das colunas\n",
    "    skiprows=1,\n",
    "    engine='python'  # Usar o motor Python para maior flexibilidade\n",
    ")\n",
    "\n",
    "dfEditedPlayerNames.dropna(inplace=True)"
   ]
  },
  {
   "cell_type": "code",
   "execution_count": 54,
   "metadata": {},
   "outputs": [
    {
     "data": {
      "text/html": [
       "<div>\n",
       "<style scoped>\n",
       "    .dataframe tbody tr th:only-of-type {\n",
       "        vertical-align: middle;\n",
       "    }\n",
       "\n",
       "    .dataframe tbody tr th {\n",
       "        vertical-align: top;\n",
       "    }\n",
       "\n",
       "    .dataframe thead th {\n",
       "        text-align: right;\n",
       "    }\n",
       "</style>\n",
       "<table border=\"1\" class=\"dataframe\">\n",
       "  <thead>\n",
       "    <tr style=\"text-align: right;\">\n",
       "      <th></th>\n",
       "      <th>firstname</th>\n",
       "      <th>commonname</th>\n",
       "      <th>playerjerseyname</th>\n",
       "      <th>surname</th>\n",
       "      <th>playerid</th>\n",
       "    </tr>\n",
       "  </thead>\n",
       "  <tbody>\n",
       "    <tr>\n",
       "      <th>0</th>\n",
       "      <td>Yago Rafael</td>\n",
       "      <td>Yago Darub</td>\n",
       "      <td>Yago Darub</td>\n",
       "      <td>Valadares Darub</td>\n",
       "      <td>22</td>\n",
       "    </tr>\n",
       "    <tr>\n",
       "      <th>1</th>\n",
       "      <td>Paulo Vítor</td>\n",
       "      <td>Paulo Vítor</td>\n",
       "      <td>Paulo Vítor</td>\n",
       "      <td>Leal Sousa Lima</td>\n",
       "      <td>3000</td>\n",
       "    </tr>\n",
       "    <tr>\n",
       "      <th>2</th>\n",
       "      <td>Miguel Angel</td>\n",
       "      <td>Miguelito</td>\n",
       "      <td>Miguelito</td>\n",
       "      <td>Terceros Acuna</td>\n",
       "      <td>4330</td>\n",
       "    </tr>\n",
       "    <tr>\n",
       "      <th>3</th>\n",
       "      <td>Luiz Carlos</td>\n",
       "      <td>Mirandinha</td>\n",
       "      <td>Mirandinha</td>\n",
       "      <td>Paulino de Carvalho</td>\n",
       "      <td>4331</td>\n",
       "    </tr>\n",
       "    <tr>\n",
       "      <th>4</th>\n",
       "      <td>Luiz Henrique</td>\n",
       "      <td>Luiz Henrique</td>\n",
       "      <td>Luiz Henrique</td>\n",
       "      <td>Bezerra dos Santos</td>\n",
       "      <td>4332</td>\n",
       "    </tr>\n",
       "  </tbody>\n",
       "</table>\n",
       "</div>"
      ],
      "text/plain": [
       "       firstname     commonname playerjerseyname              surname  \\\n",
       "0    Yago Rafael     Yago Darub       Yago Darub      Valadares Darub   \n",
       "1    Paulo Vítor    Paulo Vítor      Paulo Vítor      Leal Sousa Lima   \n",
       "2   Miguel Angel      Miguelito        Miguelito       Terceros Acuna   \n",
       "3    Luiz Carlos     Mirandinha       Mirandinha  Paulino de Carvalho   \n",
       "4  Luiz Henrique  Luiz Henrique    Luiz Henrique   Bezerra dos Santos   \n",
       "\n",
       "   playerid  \n",
       "0        22  \n",
       "1      3000  \n",
       "2      4330  \n",
       "3      4331  \n",
       "4      4332  "
      ]
     },
     "execution_count": 54,
     "metadata": {},
     "output_type": "execute_result"
    }
   ],
   "source": [
    "## First Name ID = 0 significa jogadores editados do mod\n",
    "dfEditedPlayers = dfPlayers[dfPlayers['firstnameid'] == 0]\n",
    "\n",
    "dfEditedPlayers= dfEditedPlayers.merge(dfEditedPlayerNames[['playerid','firstname','surname','commonname']], on='playerid', how='left')\n",
    "dfEditedPlayers['fullname'] = dfEditedPlayers['firstname'] + ' ' + dfEditedPlayers['surname']\n",
    "dfEditedPlayerNames.head()"
   ]
  },
  {
   "cell_type": "markdown",
   "metadata": {},
   "source": [
    "Mesclo bases de nomes editados e originais, transformando em base unica."
   ]
  },
  {
   "cell_type": "code",
   "execution_count": 55,
   "metadata": {},
   "outputs": [],
   "source": [
    "dfPlayers = pd.concat([dfOriginalPlayers,dfEditedPlayers])\n",
    "dfPlayers.drop(columns=['firstnameid','lastnameid','commonnameid'],inplace=True)"
   ]
  },
  {
   "cell_type": "markdown",
   "metadata": {},
   "source": [
    "### Inicia busca de times"
   ]
  },
  {
   "cell_type": "code",
   "execution_count": 56,
   "metadata": {},
   "outputs": [],
   "source": [
    "teamsPath = basePath + 'teams.txt'\n",
    "\n",
    "dfTeams = pd.read_csv(\n",
    "    teamsPath,\n",
    "    sep='\\t',  # Delimitador de tabulação\n",
    "    encoding='utf-8'# Usar o motor Python para maior flexibilidade\n",
    ").drop_duplicates(subset='teamid')\n",
    "dfTeams = dfTeams[['teamid', 'teamname']].dropna()"
   ]
  },
  {
   "cell_type": "markdown",
   "metadata": {},
   "source": [
    "Retira seleções da listagem de times."
   ]
  },
  {
   "cell_type": "code",
   "execution_count": 57,
   "metadata": {},
   "outputs": [
    {
     "data": {
      "text/html": [
       "<div>\n",
       "<style scoped>\n",
       "    .dataframe tbody tr th:only-of-type {\n",
       "        vertical-align: middle;\n",
       "    }\n",
       "\n",
       "    .dataframe tbody tr th {\n",
       "        vertical-align: top;\n",
       "    }\n",
       "\n",
       "    .dataframe thead th {\n",
       "        text-align: right;\n",
       "    }\n",
       "</style>\n",
       "<table border=\"1\" class=\"dataframe\">\n",
       "  <thead>\n",
       "    <tr style=\"text-align: right;\">\n",
       "      <th></th>\n",
       "      <th>leagueid</th>\n",
       "      <th>artificialkey</th>\n",
       "      <th>teamid</th>\n",
       "      <th>leaguename</th>\n",
       "    </tr>\n",
       "  </thead>\n",
       "  <tbody>\n",
       "    <tr>\n",
       "      <th>0</th>\n",
       "      <td>1</td>\n",
       "      <td>1</td>\n",
       "      <td>270</td>\n",
       "      <td>3F Superliga</td>\n",
       "    </tr>\n",
       "    <tr>\n",
       "      <th>1</th>\n",
       "      <td>1</td>\n",
       "      <td>2</td>\n",
       "      <td>271</td>\n",
       "      <td>3F Superliga</td>\n",
       "    </tr>\n",
       "    <tr>\n",
       "      <th>2</th>\n",
       "      <td>1</td>\n",
       "      <td>3</td>\n",
       "      <td>272</td>\n",
       "      <td>3F Superliga</td>\n",
       "    </tr>\n",
       "    <tr>\n",
       "      <th>3</th>\n",
       "      <td>1</td>\n",
       "      <td>4</td>\n",
       "      <td>819</td>\n",
       "      <td>3F Superliga</td>\n",
       "    </tr>\n",
       "    <tr>\n",
       "      <th>4</th>\n",
       "      <td>1</td>\n",
       "      <td>5</td>\n",
       "      <td>820</td>\n",
       "      <td>3F Superliga</td>\n",
       "    </tr>\n",
       "  </tbody>\n",
       "</table>\n",
       "</div>"
      ],
      "text/plain": [
       "   leagueid  artificialkey  teamid    leaguename\n",
       "0         1              1     270  3F Superliga\n",
       "1         1              2     271  3F Superliga\n",
       "2         1              3     272  3F Superliga\n",
       "3         1              4     819  3F Superliga\n",
       "4         1              5     820  3F Superliga"
      ]
     },
     "execution_count": 57,
     "metadata": {},
     "output_type": "execute_result"
    }
   ],
   "source": [
    "## Busco base de ligas e a base relacional de ligas e times\n",
    "\n",
    "leaguesPath = basePath + 'leagues.txt'\n",
    "leaguesTeamsPath = basePath + 'leagueteamlinks.txt'\n",
    "\n",
    "dfLeagues = pd.read_csv(\n",
    "    leaguesPath,\n",
    "    usecols=['leagueid', 'leaguename'],\n",
    "    sep='\\t',  # Delimitador de tabulação\n",
    "    encoding='utf-8'# Usar o motor Python para maior flexibilidade\n",
    ").drop_duplicates(subset='leagueid')\n",
    "\n",
    "dfLeaguesTeams = pd.read_csv(\n",
    "    leaguesTeamsPath,\n",
    "    usecols=['leagueid', 'teamid', 'artificialkey'],\n",
    "    sep='\\t',  # Delimitador de tabulação\n",
    "    encoding='utf-8'# Usar o motor Python para maior flexibilidade\n",
    ")\n",
    "\n",
    "## Retiro a seleção por base do id das ligas de seleção masculina e feminina\n",
    "condition = (dfLeaguesTeams['leagueid'] != 2136) & (dfLeaguesTeams['leagueid'] != 78 ) & (dfLeaguesTeams['artificialkey'] != 0) & (dfLeaguesTeams['teamid'] != 112190) & (dfLeaguesTeams['teamid'] != 111596) & (dfLeaguesTeams['teamid'] != 112428)\n",
    "dfLeaguesTeams = dfLeaguesTeams.loc[condition]\n",
    "\n",
    "dfLeaguesTeams = dfLeaguesTeams.merge(dfLeagues, on='leagueid', how='left')\n",
    "# dfLeaguesTeams.drop_duplicates(subset='teamid')\n",
    "dfLeaguesTeams.head()\n"
   ]
  },
  {
   "cell_type": "code",
   "execution_count": 58,
   "metadata": {},
   "outputs": [],
   "source": [
    "dfteamsFull = dfTeams.merge(dfLeaguesTeams, on='teamid', how=\"inner\")"
   ]
  },
  {
   "cell_type": "markdown",
   "metadata": {},
   "source": [
    "Importo a tablea relacional entre times e jogadores"
   ]
  },
  {
   "cell_type": "code",
   "execution_count": 59,
   "metadata": {},
   "outputs": [
    {
     "data": {
      "text/html": [
       "<div>\n",
       "<style scoped>\n",
       "    .dataframe tbody tr th:only-of-type {\n",
       "        vertical-align: middle;\n",
       "    }\n",
       "\n",
       "    .dataframe tbody tr th {\n",
       "        vertical-align: top;\n",
       "    }\n",
       "\n",
       "    .dataframe thead th {\n",
       "        text-align: right;\n",
       "    }\n",
       "</style>\n",
       "<table border=\"1\" class=\"dataframe\">\n",
       "  <thead>\n",
       "    <tr style=\"text-align: right;\">\n",
       "      <th></th>\n",
       "      <th>teamid</th>\n",
       "      <th>playerid</th>\n",
       "      <th>jerseynumber</th>\n",
       "      <th>position</th>\n",
       "    </tr>\n",
       "  </thead>\n",
       "  <tbody>\n",
       "    <tr>\n",
       "      <th>0</th>\n",
       "      <td>1</td>\n",
       "      <td>270390</td>\n",
       "      <td>21</td>\n",
       "      <td>29</td>\n",
       "    </tr>\n",
       "    <tr>\n",
       "      <th>1</th>\n",
       "      <td>1</td>\n",
       "      <td>199503</td>\n",
       "      <td>34</td>\n",
       "      <td>11</td>\n",
       "    </tr>\n",
       "    <tr>\n",
       "      <th>2</th>\n",
       "      <td>1</td>\n",
       "      <td>201118</td>\n",
       "      <td>17</td>\n",
       "      <td>3</td>\n",
       "    </tr>\n",
       "    <tr>\n",
       "      <th>3</th>\n",
       "      <td>1</td>\n",
       "      <td>209989</td>\n",
       "      <td>5</td>\n",
       "      <td>9</td>\n",
       "    </tr>\n",
       "    <tr>\n",
       "      <th>4</th>\n",
       "      <td>1</td>\n",
       "      <td>213051</td>\n",
       "      <td>25</td>\n",
       "      <td>28</td>\n",
       "    </tr>\n",
       "  </tbody>\n",
       "</table>\n",
       "</div>"
      ],
      "text/plain": [
       "   teamid  playerid  jerseynumber  position\n",
       "0       1    270390            21        29\n",
       "1       1    199503            34        11\n",
       "2       1    201118            17         3\n",
       "3       1    209989             5         9\n",
       "4       1    213051            25        28"
      ]
     },
     "execution_count": 59,
     "metadata": {},
     "output_type": "execute_result"
    }
   ],
   "source": [
    "teamsPlayersPath = basePath + 'teamplayerlinks.txt'\n",
    "\n",
    "dfTeamsPlayers = pd.read_csv(\n",
    "    teamsPlayersPath,\n",
    "    sep='\\t',  # Delimitador de tabulação\n",
    "    encoding='utf-8'# Usar o motor Python para maior flexibilidade\n",
    ")\n",
    "dfTeamsPlayers = dfTeamsPlayers[['teamid','playerid','jerseynumber', 'position']].dropna()\n",
    "\n",
    "dfTeamsPlayers.head()"
   ]
  },
  {
   "cell_type": "code",
   "execution_count": 60,
   "metadata": {},
   "outputs": [],
   "source": [
    "dfNewTeamsPlayers = dfTeamsPlayers.merge(dfteamsFull, on='teamid', how='right')\n",
    "dfNewTeamsPlayers = dfNewTeamsPlayers.merge(dfPlayers,on='playerid', how='left')\n",
    "dfNewTeamsPlayers = dfNewTeamsPlayers.query('playerid > 0')\n",
    "# dfNewTeamsPlayers = dfNewTeamsPlayers.merge(dfTeams,on='teamid', how='left')\n",
    "dfNewTeamsPlayers.to_csv('./result/oldPlayers.csv')\n",
    "# subColumn = ['playerid']\n",
    "# has_duplicates = dfNewTeamsPlayers[dfNewTeamsPlayers.duplicated(subset=subColumn,keep=False)]\n",
    "# has_duplicates = has_duplicates.sort_values(by=['playerid'])\n",
    "# has_duplicates.to_csv('./result/duplicates.csv')\n",
    "# print(has_duplicates.head())"
   ]
  }
 ],
 "metadata": {
  "kernelspec": {
   "display_name": "Python 3",
   "language": "python",
   "name": "python3"
  },
  "language_info": {
   "codemirror_mode": {
    "name": "ipython",
    "version": 3
   },
   "file_extension": ".py",
   "mimetype": "text/x-python",
   "name": "python",
   "nbconvert_exporter": "python",
   "pygments_lexer": "ipython3",
   "version": "3.10.5"
  }
 },
 "nbformat": 4,
 "nbformat_minor": 2
}
